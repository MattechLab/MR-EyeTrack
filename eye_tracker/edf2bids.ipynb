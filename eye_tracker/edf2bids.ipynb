{
 "cells": [
  {
   "cell_type": "markdown",
   "metadata": {},
   "source": [
    "# A snippet for directly writing the dataframe \"recording\" and metadata into BIDS format"
   ]
  },
  {
   "cell_type": "markdown",
   "metadata": {},
   "source": [
    "Thanks to Yiwei Jia\n",
    "https://github.com/TheAxonLab/hcph-sops/issues/480"
   ]
  },
  {
   "cell_type": "markdown",
   "metadata": {},
   "source": [
    "Convert the type of \"int64\" or \"int32\" in \"metadata\" into Type \"int\" for proper json saving."
   ]
  },
  {
   "cell_type": "code",
   "execution_count": null,
   "metadata": {},
   "outputs": [],
   "source": [
    "def convert_to_int(metadata):\n",
    "    if 'CalibrationCount' in metadata:\n",
    "        metadata['CalibrationCount'] = int(metadata['CalibrationCount']) if isinstance(metadata['CalibrationCount'], (np.int32, np.int64, int)) else metadata['CalibrationCount']\n",
    "    if \"CalibrationLog\" in metadata:\n",
    "        metadata[\"CalibrationLog\"] = [(int(x[0]),x[1]) if isinstance(x[0], (np.int32, np.int64, int)) else x for x in metadata['CalibrationLog']]\n",
    "    return metadata\n",
    "\n",
    "convert_metadata = convert_to_int(metadata)"
   ]
  },
  {
   "cell_type": "markdown",
   "metadata": {},
   "source": [
    "Save BIDS from dataframe \"recording\" and dict \"metadata\""
   ]
  },
  {
   "cell_type": "code",
   "execution_count": null,
   "metadata": {},
   "outputs": [],
   "source": [
    "def write_bids_from_df(\n",
    "    recording, metadata,\n",
    "    out_dir,\n",
    "    filename,\n",
    "    # exp_run: str | Path,\n",
    ") -> List[str]:\n",
    "    \"\"\"\n",
    "    Directly save the eye-tracking recording/metadata into a  BIDS structure.\n",
    "\n",
    "    Parameters\n",
    "    ----------\n",
    "    recording : dataframe\n",
    "        The recording data extracted from the EDF file.\n",
    "    metadata : dict\n",
    "        The metadata extracted from the EDF file.\n",
    "    out_dir : obj:`os.pathlike`\n",
    "        The path of EDF file. Refers to the folder (not the EDF file).\n",
    "    filename: str\n",
    "        The filename of the EDF file. The file name without the suffix, eg: \"Subject001\"\n",
    "    \n",
    "    Returns\n",
    "    -------\n",
    "    List[str]\n",
    "        A list of generated files.\n",
    "\n",
    "    \"\"\"\n",
    "\n",
    "    out_json = out_dir / (filename + \".json\")\n",
    "    out_json.write_text(\n",
    "        json.dumps(metadata, sort_keys=True, indent=2)\n",
    "    )\n",
    "\n",
    "    # Write out data\n",
    "    out_tsvgz = out_dir / (filename + \".tsv.gz\")\n",
    "\n",
    "    recording.to_csv(\n",
    "        out_tsvgz,\n",
    "        sep=\"\\t\",\n",
    "        index=True,\n",
    "        header=True,\n",
    "        compression=\"gzip\",\n",
    "        na_rep=\"n/a\",\n",
    "    )\n",
    "\n",
    "    return str(out_tsvgz), str(out_json)"
   ]
  },
  {
   "cell_type": "code",
   "execution_count": null,
   "metadata": {},
   "outputs": [],
   "source": [
    "out_dir = DATA_PATH\n",
    "# eg: DATA_PATH = Path(\"\\\\...\\\\ET_EDF\")\n",
    "filename = edf_name.split('.')[0]\n",
    "#eg: filename = 'Subject001'\n",
    "print(f'bid filename: {filename}')\n",
    "\n",
    "write_bids_from_df(\n",
    "    recording, convert_metadata,\n",
    "    out_dir,\n",
    "    filename,\n",
    ")"
   ]
  }
 ],
 "metadata": {
  "kernelspec": {
   "display_name": "psychopy",
   "language": "python",
   "name": "python3"
  },
  "language_info": {
   "name": "python",
   "version": "3.8.19"
  }
 },
 "nbformat": 4,
 "nbformat_minor": 2
}
